{
 "cells": [
  {
   "cell_type": "markdown",
   "id": "5402c0fe",
   "metadata": {},
   "source": [
    "# 1. 加载数据"
   ]
  },
  {
   "cell_type": "code",
   "execution_count": 1,
   "id": "0b6ba51b",
   "metadata": {},
   "outputs": [
    {
     "name": "stderr",
     "output_type": "stream",
     "text": [
      "/data/sxliu/projects/SQLTool/.venv/lib/python3.10/site-packages/tqdm/auto.py:21: TqdmWarning: IProgress not found. Please update jupyter and ipywidgets. See https://ipywidgets.readthedocs.io/en/stable/user_install.html\n",
      "  from .autonotebook import tqdm as notebook_tqdm\n"
     ]
    }
   ],
   "source": [
    "# 使用OpenAI接口进行推理，去除自一致性\n",
    "import datasets\n",
    "import openai\n",
    "from tenacity import retry, wait_random_exponential, stop_after_attempt\n",
    "\n",
    "import os\n",
    "import pandas as pd\n",
    "import re\n",
    "import json\n",
    "import dotenv\n",
    "dotenv.load_dotenv()\n",
    "\n",
    "# 初始化OpenAI客户端\n",
    "client = openai.OpenAI(\n",
    "    api_key=\"EMPTY\",\n",
    "    base_url=\"http://0.0.0.0:8192/v1\"\n",
    ")\n",
    "\n",
    "def read_texts_from_dir(dir_path):\n",
    "    \"\"\"\n",
    "    Reads the texts from a given directory and saves them in the pd.DataFrame with columns ['id', 'file_1', 'file_2'].\n",
    "    \n",
    "    Params:\n",
    "    dir_path (str): path to the directory with data\n",
    "    \"\"\"\n",
    "    # Count number of directories in the provided path\n",
    "    dir_count = sum(os.path.isdir(os.path.join(root, d)) for root, dirs, _ in os.walk(dir_path) for d in dirs)\n",
    "    data=[0 for _ in range(dir_count)]\n",
    "    print(f\"Number of directories: {dir_count}\")\n",
    "    \n",
    "    # For each directory, read both file_1.txt and file_2.txt and save results to the list\n",
    "    i=0\n",
    "    for folder_name in sorted(os.listdir(dir_path)):\n",
    "        folder_path = os.path.join(dir_path, folder_name)\n",
    "        if os.path.isdir(folder_path):\n",
    "          try:\n",
    "            with open(os.path.join(folder_path, 'file_1.txt'), 'r', encoding='utf-8') as f1:\n",
    "              text1 = f1.read().strip()\n",
    "            with open(os.path.join(folder_path, 'file_2.txt'), 'r', encoding='utf-8') as f2:\n",
    "              text2 = f2.read().strip()\n",
    "            index = int(folder_name[-4:])\n",
    "            data[i]=(index, text1, text2)\n",
    "            i+=1\n",
    "          except Exception as e:\n",
    "            print(f\"Error reading directory {folder_name}: {e}\")\n",
    "    \n",
    "    # Change list with results into pandas DataFrame\n",
    "    df = pd.DataFrame(data, columns=['id', 'file_1', 'file_2']).set_index('id')\n",
    "    return df"
   ]
  },
  {
   "cell_type": "code",
   "execution_count": 2,
   "id": "761b8435",
   "metadata": {},
   "outputs": [
    {
     "name": "stdout",
     "output_type": "stream",
     "text": [
      "Number of directories: 1068\n"
     ]
    }
   ],
   "source": [
    "data_dir = os.environ.get(\"ROOT_DATA_DIR\")\n",
    "data_name = \"fake-or-real-the-impostor-hunt\"\n",
    "test_path=os.path.join(data_dir, data_name, \"test\")\n",
    "df_test=read_texts_from_dir(test_path)"
   ]
  },
  {
   "cell_type": "code",
   "execution_count": 3,
   "id": "c2bf9ec3",
   "metadata": {},
   "outputs": [
    {
     "data": {
      "text/html": [
       "<div>\n",
       "<style scoped>\n",
       "    .dataframe tbody tr th:only-of-type {\n",
       "        vertical-align: middle;\n",
       "    }\n",
       "\n",
       "    .dataframe tbody tr th {\n",
       "        vertical-align: top;\n",
       "    }\n",
       "\n",
       "    .dataframe thead th {\n",
       "        text-align: right;\n",
       "    }\n",
       "</style>\n",
       "<table border=\"1\" class=\"dataframe\">\n",
       "  <thead>\n",
       "    <tr style=\"text-align: right;\">\n",
       "      <th></th>\n",
       "      <th>file_1</th>\n",
       "      <th>file_2</th>\n",
       "    </tr>\n",
       "    <tr>\n",
       "      <th>id</th>\n",
       "      <th></th>\n",
       "      <th></th>\n",
       "    </tr>\n",
       "  </thead>\n",
       "  <tbody>\n",
       "    <tr>\n",
       "      <th>0</th>\n",
       "      <td>\"Music\" Music music music Music music Music mu...</td>\n",
       "      <td>Since its launch on Paranal observatory's Very...</td>\n",
       "    </tr>\n",
       "    <tr>\n",
       "      <th>1</th>\n",
       "      <td>underground exploration on SN's birth has prov...</td>\n",
       "      <td>SN 1987A provides valuable insights as newer o...</td>\n",
       "    </tr>\n",
       "    <tr>\n",
       "      <th>2</th>\n",
       "      <td>This research aimed to understand how star sha...</td>\n",
       "      <td>ChromeDriver music player\\nThis study focused ...</td>\n",
       "    </tr>\n",
       "    <tr>\n",
       "      <th>3</th>\n",
       "      <td>Using OmegaCAM's wide field capabilities spann...</td>\n",
       "      <td>greek translation :\\nvazhi (megaCAM), territor...</td>\n",
       "    </tr>\n",
       "    <tr>\n",
       "      <th>4</th>\n",
       "      <td>AssemblyCulture AssemblyCulture AssemblyCultur...</td>\n",
       "      <td>XClass is software tool that helps astronomers...</td>\n",
       "    </tr>\n",
       "  </tbody>\n",
       "</table>\n",
       "</div>"
      ],
      "text/plain": [
       "                                               file_1  \\\n",
       "id                                                      \n",
       "0   \"Music\" Music music music Music music Music mu...   \n",
       "1   underground exploration on SN's birth has prov...   \n",
       "2   This research aimed to understand how star sha...   \n",
       "3   Using OmegaCAM's wide field capabilities spann...   \n",
       "4   AssemblyCulture AssemblyCulture AssemblyCultur...   \n",
       "\n",
       "                                               file_2  \n",
       "id                                                     \n",
       "0   Since its launch on Paranal observatory's Very...  \n",
       "1   SN 1987A provides valuable insights as newer o...  \n",
       "2   ChromeDriver music player\\nThis study focused ...  \n",
       "3   greek translation :\\nvazhi (megaCAM), territor...  \n",
       "4   XClass is software tool that helps astronomers...  "
      ]
     },
     "execution_count": 3,
     "metadata": {},
     "output_type": "execute_result"
    }
   ],
   "source": [
    "df_test.head()"
   ]
  },
  {
   "cell_type": "markdown",
   "id": "73cdd7b2",
   "metadata": {},
   "source": [
    "# 2. 加载模型"
   ]
  },
  {
   "cell_type": "code",
   "execution_count": null,
   "id": "5d47f127",
   "metadata": {},
   "outputs": [
    {
     "name": "stdout",
     "output_type": "stream",
     "text": [
      "使用模型: Qwen/Qwen3-8B\n",
      "API Base: http://0.0.0.0:8192\n"
     ]
    }
   ],
   "source": [
    "# OpenAI模型配置\n",
    "MODEL_NAME = \"Qwen/Qwen3-8B\"  # 或者使用 \"gpt-3.5-turbo\" 等其他模型\n",
    "MAX_TOKENS = 4096\n",
    "TEMPERATURE = 0.1  # 较低温度确保一致性\n",
    "\n",
    "print(f\"使用模型: {MODEL_NAME}\")\n",
    "print(f\"API Base: {os.environ.get('OPENAI_API_BASE', 'http://0.0.0.0:8192/v1')}\")"
   ]
  },
  {
   "cell_type": "markdown",
   "id": "0e184325",
   "metadata": {},
   "source": [
    "# 2. 数据预处理"
   ]
  },
  {
   "cell_type": "code",
   "execution_count": 5,
   "id": "bac8276b",
   "metadata": {},
   "outputs": [],
   "source": [
    "# 定义系统提示 - 标准化输出格式\n",
    "system_prompt = \"\"\"You are tasked with judging the authenticity of two text samples. Given two texts labeled 1 and 2, one is real and the other is fake. Please think step by step, but only keep a minimum draft for each thinking step, with 5 words at most.\n",
    "\n",
    "To ensure consistent evaluation, please follow this strict output format:\n",
    "1. First, you may analyze and reason through the samples (this part will not be evaluated)\n",
    "2. For your final answer, you must wrap the number of the real sample (only 1 or 2) within \\\\boxed{}\n",
    "3. Do not include any other content outside the \\\\boxed{} tag\n",
    "4. Examples of correct format: \\\\boxed{1} or \\\\boxed{2}\n",
    "5. Any output not following this format will be considered invalid\"\"\"\n",
    "\n",
    "def create_prompt(sample1, sample2):\n",
    "    \"\"\"构建提示文本，包含明确的标准化输出要求\"\"\"\n",
    "    return \"\"\"Below are two text samples. Determine which is real and which is fake.\n",
    "\n",
    "Sample 1: [[sample1]]\n",
    "\n",
    "Sample 2: [[sample2]]\n",
    "\n",
    "Please follow these steps:\n",
    "1. You may first compare their content, logical consistency, information accuracy, and language style\n",
    "2. Then, provide your final answer by putting only the number of the real sample (1 or 2) within \\\\boxed{}\n",
    "3. Ensure there is no other text outside the \\\\boxed{} tag\n",
    "\n",
    "Example of correct output:\n",
    "After comparing the two samples, I think Sample 1 is more consistent and accurate. Answer: \\\\boxed{1}\n",
    "\n",
    "Example of incorrect output:\n",
    "2 (This is missing the required boxed format)\"\"\".replace(\"[[sample1]]\", sample1).replace(\"[[sample2]]\", sample2)\n",
    "\n",
    "def process_sample(sample1, sample2):\n",
    "    \"\"\"构建OpenAI消息格式\"\"\"\n",
    "    messages = [\n",
    "        {\"role\": \"system\", \"content\": system_prompt},\n",
    "        {\"role\": \"user\", \"content\": create_prompt(sample1[:4096], sample2[:4096])}\n",
    "    ]\n",
    "    return messages"
   ]
  },
  {
   "cell_type": "code",
   "execution_count": 6,
   "id": "9b49a340",
   "metadata": {},
   "outputs": [
    {
     "data": {
      "text/plain": [
       "{'file_1': '\"Music\" Music music music Music music Music music Music music\\nThe two telescopes using \"Music\" have been incredibly busy since their launch! They\\'re incredibly popular for research on Earthly objects like star clusters or celestial bodies like planets or even galaxies far away! They\\'ve produced many scientific publications within just a few years - so many so that they dominate by far when it comes to peer reviewed articles published from those telescopes! These musical journey has produced over a hundred articles published through various outlets like journals such as \\'Nature\\'. Some notable achievements include discovering near space objects found between star systems as well as identifying cosmic events such as how gravity affects light waves traveling through spacemusic\\nBeyond its contributions to individual research projects with specific scientific goals (like finding new types or patterns) , it also contributes significantly to our overall understanding by being used for several key scientific research initiatives where scientists can use them together to make remarkable discoveries about our universe . For example they contributed significantly towards understanding how some celestial objects change over time using its powerful capabilitys under various conditions under which they could only be observed before on other smaller scale telescopes MUSIC\\nIt also holds an important place among others because some researchers think their work will help us understand how galaxies form or evolve better than ever beforeMusic\\nThis is just a summary - I hope you find it helpful! Let me know if you need any further details about specific aspects mentioned here ! Songs for your day ahead!',\n",
       " 'file_2': 'Since its launch on Paranal observatory\\'s Very Large Telescope (VLT), FORSC instrument remains highly sought after by astronomers worldwide due to its impressive capabilities for capturing light from distant objects like planets outside our solar system (exoplanets) or other celestial phenomena such as black holes or supernovae explosions .\\nFORSC has produced a significant amount scientific findings across various fields thanks to its ability to capture ultraviolet light: It boasts over a thousand peer-reviewed articles published using it since its inception , highlighting discoveries like a newly discovered interstellar asteroid within our solar system or identifying gravitational waves generated by merging neutron stars .\\nFurthermore ,FORSC played a key role contributing significantly towards groundbreaking research published by top scientific journals such as \"Nature\" including three notable discoveries about interstellar asteroids , gravitational waves sources ,and titanium oxide present within an exoplanets atmosphere . This instrument\\'s impact extends beyond just publishing new findings but also influences how scientists understand their research field through citations from other scientists who have built upon their work .',\n",
       " 'id': 0}"
      ]
     },
     "execution_count": 6,
     "metadata": {},
     "output_type": "execute_result"
    }
   ],
   "source": [
    "# 转为datasets格式\n",
    "data = datasets.Dataset.from_pandas(df_test)\n",
    "data[0]"
   ]
  },
  {
   "cell_type": "code",
   "execution_count": 7,
   "id": "9737a23a",
   "metadata": {},
   "outputs": [
    {
     "name": "stderr",
     "output_type": "stream",
     "text": [
      "Map: 100%|██████████| 1068/1068 [00:00<00:00, 9977.30 examples/s] "
     ]
    },
    {
     "name": "stdout",
     "output_type": "stream",
     "text": [
      "示例消息:\n",
      "[{'content': 'You are tasked with judging the authenticity of two text samples. Given two texts labeled 1 and 2, one is real and the other is fake. Please think step by step, but only keep a minimum draft for each thinking step, with 5 words at most.\\n\\nTo ensure consistent evaluation, please follow this strict output format:\\n1. First, you may analyze and reason through the samples (this part will not be evaluated)\\n2. For your final answer, you must wrap the number of the real sample (only 1 or 2) within \\\\boxed{}\\n3. Do not include any other content outside the \\\\boxed{} tag\\n4. Examples of correct format: \\\\boxed{1} or \\\\boxed{2}\\n5. Any output not following this format will be considered invalid', 'role': 'system'}, {'content': 'Below are two text samples. Determine which is real and which is fake.\\n\\nSample 1: \"Music\" Music music music Music music Music music Music music\\nThe two telescopes using \"Music\" have been incredibly busy since their launch! They\\'re incredibly popular for research on Earthly objects like star clusters or celestial bodies like planets or even galaxies far away! They\\'ve produced many scientific publications within just a few years - so many so that they dominate by far when it comes to peer reviewed articles published from those telescopes! These musical journey has produced over a hundred articles published through various outlets like journals such as \\'Nature\\'. Some notable achievements include discovering near space objects found between star systems as well as identifying cosmic events such as how gravity affects light waves traveling through spacemusic\\nBeyond its contributions to individual research projects with specific scientific goals (like finding new types or patterns) , it also contributes significantly to our overall understanding by being used for several key scientific research initiatives where scientists can use them together to make remarkable discoveries about our universe . For example they contributed significantly towards understanding how some celestial objects change over time using its powerful capabilitys under various conditions under which they could only be observed before on other smaller scale telescopes MUSIC\\nIt also holds an important place among others because some researchers think their work will help us understand how galaxies form or evolve better than ever beforeMusic\\nThis is just a summary - I hope you find it helpful! Let me know if you need any further details about specific aspects mentioned here ! Songs for your day ahead!\\n\\nSample 2: Since its launch on Paranal observatory\\'s Very Large Telescope (VLT), FORSC instrument remains highly sought after by astronomers worldwide due to its impressive capabilities for capturing light from distant objects like planets outside our solar system (exoplanets) or other celestial phenomena such as black holes or supernovae explosions .\\nFORSC has produced a significant amount scientific findings across various fields thanks to its ability to capture ultraviolet light: It boasts over a thousand peer-reviewed articles published using it since its inception , highlighting discoveries like a newly discovered interstellar asteroid within our solar system or identifying gravitational waves generated by merging neutron stars .\\nFurthermore ,FORSC played a key role contributing significantly towards groundbreaking research published by top scientific journals such as \"Nature\" including three notable discoveries about interstellar asteroids , gravitational waves sources ,and titanium oxide present within an exoplanets atmosphere . This instrument\\'s impact extends beyond just publishing new findings but also influences how scientists understand their research field through citations from other scientists who have built upon their work .\\n\\nPlease follow these steps:\\n1. You may first compare their content, logical consistency, information accuracy, and language style\\n2. Then, provide your final answer by putting only the number of the real sample (1 or 2) within \\\\boxed{}\\n3. Ensure there is no other text outside the \\\\boxed{} tag\\n\\nExample of correct output:\\nAfter comparing the two samples, I think Sample 1 is more consistent and accurate. Answer: \\\\boxed{1}\\n\\nExample of incorrect output:\\n2 (This is missing the required boxed format)', 'role': 'user'}]\n"
     ]
    },
    {
     "name": "stderr",
     "output_type": "stream",
     "text": [
      "\n"
     ]
    }
   ],
   "source": [
    "processed_data = data.map(lambda x: {\"messages\": process_sample(x[\"file_1\"], x[\"file_2\"])}, remove_columns=[\"file_1\", \"file_2\"])\n",
    "# 展示数据\n",
    "print(\"示例消息:\")\n",
    "print(processed_data[0][\"messages\"])"
   ]
  },
  {
   "cell_type": "markdown",
   "id": "ac48a238",
   "metadata": {},
   "source": [
    "# 推理与保存"
   ]
  },
  {
   "cell_type": "code",
   "execution_count": 8,
   "id": "09011ae6",
   "metadata": {},
   "outputs": [],
   "source": [
    "# OpenAI推理函数，带重试机制\n",
    "@retry(wait=wait_random_exponential(min=1, max=60), stop=stop_after_attempt(5))\n",
    "def call_openai_with_retry(messages, model=MODEL_NAME, max_tokens=MAX_TOKENS, temperature=TEMPERATURE):\n",
    "    \"\"\"\n",
    "    使用重试机制调用OpenAI API\n",
    "    \"\"\"\n",
    "    try:\n",
    "        response = client.chat.completions.create(\n",
    "            model=model,\n",
    "            messages=messages,\n",
    "            max_tokens=max_tokens,\n",
    "            temperature=temperature\n",
    "        )\n",
    "        return response.choices[0].message.content\n",
    "    except Exception as e:\n",
    "        print(f\"API调用失败: {e}\")\n",
    "        raise e\n",
    "\n",
    "def generate_response(messages):\n",
    "    \"\"\"生成单个响应（无自一致性）\"\"\"\n",
    "    return call_openai_with_retry(messages)"
   ]
  },
  {
   "cell_type": "code",
   "execution_count": 9,
   "id": "f1a7b93c",
   "metadata": {},
   "outputs": [],
   "source": [
    "# 提取答案的函数（从生成文本中提取\\boxed{1}或\\boxed{2}）\n",
    "def extract_answer(generated_text):\n",
    "    \"\"\"从文本中提取\\\\boxed{1}或\\\\boxed{2}，无效则返回None\"\"\"\n",
    "    match = re.search(r'\\\\boxed\\{(1|2)\\}', generated_text)\n",
    "    if match:\n",
    "        answer = match.group(1)\n",
    "    else:\n",
    "        match = re.search(r'\\{([12])\\}', generated_text)\n",
    "        if match:\n",
    "            answer = match.group(1)\n",
    "        elif \"1\" in generated_text[-25:] and \"2\" not in generated_text[-25:]:\n",
    "            answer = '1'\n",
    "        elif \"1\" not in generated_text[-25:] and \"2\" in generated_text[-25:]:\n",
    "            answer = '2'\n",
    "        else:  \n",
    "            print(f\"警告: 无效的判断结果 - {generated_text[-50:]}...，默认返回1\")\n",
    "            answer = '1'\n",
    "    return answer"
   ]
  },
  {
   "cell_type": "code",
   "execution_count": 10,
   "id": "2a2d226a",
   "metadata": {},
   "outputs": [
    {
     "name": "stdout",
     "output_type": "stream",
     "text": [
      "找到现有结果文件，已完成 0 条记录\n"
     ]
    }
   ],
   "source": [
    "# 检查是否有之前的结果文件，如果有则从中断处继续\n",
    "baseline_results_file = \"data/baseline_results.csv\"\n",
    "if os.path.exists(baseline_results_file):\n",
    "    pred_data = pd.read_csv(baseline_results_file)\n",
    "    print(f\"找到现有结果文件，已完成 {len(pred_data)} 条记录\")\n",
    "else:\n",
    "    pred_data = pd.DataFrame(columns=['id', 'real_text_id'])\n",
    "    print(\"未找到现有结果文件，从头开始\")"
   ]
  },
  {
   "cell_type": "code",
   "execution_count": 11,
   "id": "acefdbdd",
   "metadata": {},
   "outputs": [
    {
     "name": "stdout",
     "output_type": "stream",
     "text": [
      "从头开始处理\n"
     ]
    }
   ],
   "source": [
    "if len(pred_data) > 0:\n",
    "    idx = pred_data.iloc[-1, 0]\n",
    "    print(f\"从 id={idx} 后继续\")\n",
    "else:\n",
    "    idx = -1\n",
    "    print(\"从头开始处理\")"
   ]
  },
  {
   "cell_type": "code",
   "execution_count": 12,
   "id": "b57788e3",
   "metadata": {},
   "outputs": [],
   "source": [
    "# 截取idx后面的，不包括idx\n",
    "processed_data = processed_data.select(range(idx+1, len(processed_data)))"
   ]
  },
  {
   "cell_type": "code",
   "execution_count": 13,
   "id": "20e2371f",
   "metadata": {},
   "outputs": [
    {
     "data": {
      "text/plain": [
       "{'id': 0,\n",
       " 'messages': [{'content': 'You are tasked with judging the authenticity of two text samples. Given two texts labeled 1 and 2, one is real and the other is fake. Please think step by step, but only keep a minimum draft for each thinking step, with 5 words at most.\\n\\nTo ensure consistent evaluation, please follow this strict output format:\\n1. First, you may analyze and reason through the samples (this part will not be evaluated)\\n2. For your final answer, you must wrap the number of the real sample (only 1 or 2) within \\\\boxed{}\\n3. Do not include any other content outside the \\\\boxed{} tag\\n4. Examples of correct format: \\\\boxed{1} or \\\\boxed{2}\\n5. Any output not following this format will be considered invalid',\n",
       "   'role': 'system'},\n",
       "  {'content': 'Below are two text samples. Determine which is real and which is fake.\\n\\nSample 1: \"Music\" Music music music Music music Music music Music music\\nThe two telescopes using \"Music\" have been incredibly busy since their launch! They\\'re incredibly popular for research on Earthly objects like star clusters or celestial bodies like planets or even galaxies far away! They\\'ve produced many scientific publications within just a few years - so many so that they dominate by far when it comes to peer reviewed articles published from those telescopes! These musical journey has produced over a hundred articles published through various outlets like journals such as \\'Nature\\'. Some notable achievements include discovering near space objects found between star systems as well as identifying cosmic events such as how gravity affects light waves traveling through spacemusic\\nBeyond its contributions to individual research projects with specific scientific goals (like finding new types or patterns) , it also contributes significantly to our overall understanding by being used for several key scientific research initiatives where scientists can use them together to make remarkable discoveries about our universe . For example they contributed significantly towards understanding how some celestial objects change over time using its powerful capabilitys under various conditions under which they could only be observed before on other smaller scale telescopes MUSIC\\nIt also holds an important place among others because some researchers think their work will help us understand how galaxies form or evolve better than ever beforeMusic\\nThis is just a summary - I hope you find it helpful! Let me know if you need any further details about specific aspects mentioned here ! Songs for your day ahead!\\n\\nSample 2: Since its launch on Paranal observatory\\'s Very Large Telescope (VLT), FORSC instrument remains highly sought after by astronomers worldwide due to its impressive capabilities for capturing light from distant objects like planets outside our solar system (exoplanets) or other celestial phenomena such as black holes or supernovae explosions .\\nFORSC has produced a significant amount scientific findings across various fields thanks to its ability to capture ultraviolet light: It boasts over a thousand peer-reviewed articles published using it since its inception , highlighting discoveries like a newly discovered interstellar asteroid within our solar system or identifying gravitational waves generated by merging neutron stars .\\nFurthermore ,FORSC played a key role contributing significantly towards groundbreaking research published by top scientific journals such as \"Nature\" including three notable discoveries about interstellar asteroids , gravitational waves sources ,and titanium oxide present within an exoplanets atmosphere . This instrument\\'s impact extends beyond just publishing new findings but also influences how scientists understand their research field through citations from other scientists who have built upon their work .\\n\\nPlease follow these steps:\\n1. You may first compare their content, logical consistency, information accuracy, and language style\\n2. Then, provide your final answer by putting only the number of the real sample (1 or 2) within \\\\boxed{}\\n3. Ensure there is no other text outside the \\\\boxed{} tag\\n\\nExample of correct output:\\nAfter comparing the two samples, I think Sample 1 is more consistent and accurate. Answer: \\\\boxed{1}\\n\\nExample of incorrect output:\\n2 (This is missing the required boxed format)',\n",
       "   'role': 'user'}]}"
      ]
     },
     "execution_count": 13,
     "metadata": {},
     "output_type": "execute_result"
    }
   ],
   "source": [
    "processed_data[0]"
   ]
  },
  {
   "cell_type": "code",
   "execution_count": 14,
   "id": "0373fac3",
   "metadata": {},
   "outputs": [
    {
     "name": "stdout",
     "output_type": "stream",
     "text": [
      "已保存id=0的结果：2\n",
      "已保存id=10的结果：1\n",
      "已保存id=10的结果：1\n",
      "已保存id=20的结果：2\n",
      "已保存id=20的结果：2\n",
      "已保存id=30的结果：2\n",
      "已保存id=30的结果：2\n",
      "已保存id=40的结果：2\n",
      "已保存id=40的结果：2\n",
      "已保存id=50的结果：1\n",
      "已保存id=50的结果：1\n",
      "已保存id=60的结果：1\n",
      "已保存id=60的结果：1\n",
      "已保存id=70的结果：1\n",
      "已保存id=70的结果：1\n",
      "已保存id=80的结果：2\n",
      "已保存id=80的结果：2\n",
      "已保存id=90的结果：2\n",
      "已保存id=90的结果：2\n",
      "已保存id=100的结果：2\n",
      "已保存id=100的结果：2\n",
      "已保存id=110的结果：2\n",
      "已保存id=110的结果：2\n",
      "已保存id=120的结果：2\n",
      "已保存id=120的结果：2\n",
      "已保存id=130的结果：1\n",
      "已保存id=130的结果：1\n",
      "已保存id=140的结果：1\n",
      "已保存id=140的结果：1\n",
      "警告: 无效的判断结果 - m stuck. I'll have to choose one. Maybe the answer...，默认返回1\n",
      "警告: 无效的判断结果 - m stuck. I'll have to choose one. Maybe the answer...，默认返回1\n",
      "已保存id=150的结果：2\n",
      "已保存id=150的结果：2\n",
      "已保存id=160的结果：2\n",
      "已保存id=160的结果：2\n",
      "已保存id=170的结果：1\n",
      "已保存id=170的结果：1\n",
      "已保存id=180的结果：1\n",
      "已保存id=180的结果：1\n",
      "已保存id=190的结果：2\n",
      "已保存id=190的结果：2\n",
      "已保存id=200的结果：1\n",
      "已保存id=200的结果：1\n",
      "已保存id=210的结果：1\n",
      "已保存id=210的结果：1\n",
      "已保存id=220的结果：1\n",
      "已保存id=220的结果：1\n",
      "已保存id=230的结果：1\n",
      "已保存id=230的结果：1\n",
      "已保存id=240的结果：2\n",
      "已保存id=240的结果：2\n",
      "已保存id=250的结果：1\n",
      "已保存id=250的结果：1\n",
      "已保存id=260的结果：1\n",
      "已保存id=260的结果：1\n",
      "已保存id=270的结果：1\n",
      "已保存id=270的结果：1\n",
      "已保存id=280的结果：1\n",
      "已保存id=280的结果：1\n",
      "已保存id=290的结果：1\n",
      "已保存id=290的结果：1\n",
      "已保存id=300的结果：2\n",
      "已保存id=300的结果：2\n",
      "已保存id=310的结果：2\n",
      "已保存id=310的结果：2\n",
      "已保存id=320的结果：2\n",
      "已保存id=320的结果：2\n",
      "已保存id=330的结果：1\n",
      "已保存id=330的结果：1\n",
      "已保存id=340的结果：2\n",
      "已保存id=340的结果：2\n",
      "已保存id=350的结果：1\n",
      "已保存id=350的结果：1\n",
      "已保存id=360的结果：2\n",
      "已保存id=360的结果：2\n",
      "已保存id=370的结果：1\n",
      "已保存id=370的结果：1\n",
      "已保存id=380的结果：2\n",
      "已保存id=380的结果：2\n",
      "已保存id=390的结果：2\n",
      "已保存id=390的结果：2\n",
      "已保存id=400的结果：2\n",
      "已保存id=400的结果：2\n",
      "已保存id=410的结果：2\n",
      "已保存id=410的结果：2\n",
      "已保存id=420的结果：2\n",
      "已保存id=420的结果：2\n",
      "已保存id=430的结果：2\n",
      "已保存id=430的结果：2\n",
      "已保存id=440的结果：2\n",
      "已保存id=440的结果：2\n",
      "已保存id=450的结果：2\n",
      "已保存id=450的结果：2\n",
      "已保存id=460的结果：2\n",
      "已保存id=460的结果：2\n",
      "已保存id=470的结果：2\n",
      "已保存id=470的结果：2\n",
      "已保存id=480的结果：1\n",
      "已保存id=480的结果：1\n",
      "已保存id=490的结果：1\n",
      "已保存id=490的结果：1\n",
      "已保存id=500的结果：1\n",
      "已保存id=500的结果：1\n",
      "已保存id=510的结果：1\n",
      "已保存id=510的结果：1\n",
      "已保存id=520的结果：1\n",
      "已保存id=520的结果：1\n",
      "已保存id=530的结果：2\n",
      "已保存id=530的结果：2\n",
      "已保存id=540的结果：1\n",
      "已保存id=540的结果：1\n",
      "已保存id=550的结果：1\n",
      "已保存id=550的结果：1\n",
      "已保存id=560的结果：1\n",
      "已保存id=560的结果：1\n",
      "已保存id=570的结果：2\n",
      "已保存id=570的结果：2\n",
      "已保存id=580的结果：1\n",
      "已保存id=580的结果：1\n",
      "已保存id=590的结果：1\n",
      "已保存id=590的结果：1\n",
      "已保存id=600的结果：2\n",
      "已保存id=600的结果：2\n",
      "已保存id=610的结果：1\n",
      "已保存id=610的结果：1\n",
      "已保存id=620的结果：1\n",
      "已保存id=620的结果：1\n",
      "已保存id=630的结果：2\n",
      "已保存id=630的结果：2\n",
      "已保存id=640的结果：1\n",
      "已保存id=640的结果：1\n",
      "已保存id=650的结果：1\n",
      "已保存id=650的结果：1\n",
      "已保存id=660的结果：2\n",
      "已保存id=660的结果：2\n",
      "已保存id=670的结果：1\n",
      "已保存id=670的结果：1\n",
      "已保存id=680的结果：1\n",
      "已保存id=680的结果：1\n",
      "已保存id=690的结果：2\n",
      "已保存id=690的结果：2\n",
      "已保存id=700的结果：2\n",
      "已保存id=700的结果：2\n",
      "已保存id=710的结果：1\n",
      "已保存id=710的结果：1\n",
      "已保存id=720的结果：2\n",
      "已保存id=720的结果：2\n",
      "已保存id=730的结果：1\n",
      "已保存id=730的结果：1\n",
      "已保存id=740的结果：2\n",
      "已保存id=740的结果：2\n",
      "已保存id=750的结果：2\n",
      "已保存id=750的结果：2\n",
      "已保存id=760的结果：2\n",
      "已保存id=760的结果：2\n",
      "警告: 无效的判断结果 - ლის მიერ მომხმარებლის მიერ მომხმარებლის მიერ მომხმ...，默认返回1\n",
      "警告: 无效的判断结果 - ლის მიერ მომხმარებლის მიერ მომხმარებლის მიერ მომხმ...，默认返回1\n",
      "已保存id=770的结果：2\n",
      "已保存id=770的结果：2\n",
      "已保存id=780的结果：1\n",
      "已保存id=780的结果：1\n",
      "已保存id=790的结果：1\n",
      "已保存id=790的结果：1\n",
      "已保存id=800的结果：1\n",
      "已保存id=800的结果：1\n",
      "已保存id=810的结果：1\n",
      "已保存id=810的结果：1\n",
      "已保存id=820的结果：2\n",
      "已保存id=820的结果：2\n",
      "已保存id=830的结果：2\n",
      "已保存id=830的结果：2\n",
      "已保存id=840的结果：1\n",
      "已保存id=840的结果：1\n",
      "已保存id=850的结果：2\n",
      "已保存id=850的结果：2\n",
      "已保存id=860的结果：2\n",
      "已保存id=860的结果：2\n",
      "已保存id=870的结果：2\n",
      "已保存id=870的结果：2\n",
      "已保存id=880的结果：1\n",
      "已保存id=880的结果：1\n",
      "已保存id=890的结果：1\n",
      "已保存id=890的结果：1\n",
      "已保存id=900的结果：2\n",
      "已保存id=900的结果：2\n",
      "已保存id=910的结果：2\n",
      "已保存id=910的结果：2\n",
      "已保存id=920的结果：1\n",
      "已保存id=920的结果：1\n",
      "已保存id=930的结果：2\n",
      "已保存id=930的结果：2\n",
      "已保存id=940的结果：2\n",
      "已保存id=940的结果：2\n",
      "已保存id=950的结果：2\n",
      "已保存id=950的结果：2\n",
      "已保存id=960的结果：1\n",
      "已保存id=960的结果：1\n",
      "已保存id=970的结果：2\n",
      "已保存id=970的结果：2\n",
      "已保存id=980的结果：2\n",
      "已保存id=980的结果：2\n",
      "已保存id=990的结果：2\n",
      "已保存id=990的结果：2\n",
      "已保存id=1000的结果：1\n",
      "已保存id=1000的结果：1\n",
      "已保存id=1010的结果：1\n",
      "已保存id=1010的结果：1\n",
      "已保存id=1020的结果：2\n",
      "已保存id=1020的结果：2\n",
      "已保存id=1030的结果：1\n",
      "已保存id=1030的结果：1\n",
      "已保存id=1040的结果：1\n",
      "已保存id=1040的结果：1\n",
      "已保存id=1050的结果：2\n",
      "已保存id=1050的结果：2\n",
      "已保存id=1060的结果：1\n",
      "已保存id=1060的结果：1\n"
     ]
    }
   ],
   "source": [
    "# 处理并即时保存（使用OpenAI API，无自一致性）\n",
    "def process_and_save_baseline(processed_data, output_file=\"data/baseline_results.csv\"):\n",
    "    \"\"\"使用OpenAI API进行单次推理并保存结果\"\"\"\n",
    "    # 初始化CSV文件\n",
    "    if not os.path.exists(output_file):\n",
    "        pd.DataFrame(columns=['id', 'real_text_id']).to_csv(\n",
    "            output_file, index=False, encoding='utf-8'\n",
    "        )\n",
    "    \n",
    "    # 从中断处继续\n",
    "    start_idx = idx + 1\n",
    "    \n",
    "    for i in range(start_idx, len(processed_data)):\n",
    "        try:\n",
    "            # 获取当前样本的消息\n",
    "            messages = processed_data[i][\"messages\"]\n",
    "            \n",
    "            # 调用OpenAI API生成单个响应\n",
    "            generated_text = generate_response(messages)\n",
    "            \n",
    "            # 提取答案\n",
    "            final_answer = extract_answer(generated_text)\n",
    "            \n",
    "            # 即时保存\n",
    "            pd.DataFrame([{\n",
    "                'id': i,\n",
    "                'real_text_id': final_answer\n",
    "            }]).to_csv(\n",
    "                output_file,\n",
    "                mode='a',\n",
    "                header=False,\n",
    "                index=False,\n",
    "                encoding='utf-8'\n",
    "            )\n",
    "            \n",
    "            if i % 10 == 0:\n",
    "                print(f\"已保存id={i}的结果：{final_answer}\")\n",
    "            \n",
    "        except Exception as e:\n",
    "            print(f\"处理id={i}时出错: {e}\")\n",
    "            # 保存错误信息并继续\n",
    "            pd.DataFrame([{\n",
    "                'id': i,\n",
    "                'real_text_id': '1'  # 默认值\n",
    "            }]).to_csv(\n",
    "                output_file,\n",
    "                mode='a',\n",
    "                header=False,\n",
    "                index=False,\n",
    "                encoding='utf-8'\n",
    "            )\n",
    "            continue\n",
    "\n",
    "# 使用示例\n",
    "process_and_save_baseline(processed_data, \"data/baseline_results.csv\")"
   ]
  }
 ],
 "metadata": {
  "kernelspec": {
   "display_name": "SQLTool",
   "language": "python",
   "name": "python3"
  },
  "language_info": {
   "codemirror_mode": {
    "name": "ipython",
    "version": 3
   },
   "file_extension": ".py",
   "mimetype": "text/x-python",
   "name": "python",
   "nbconvert_exporter": "python",
   "pygments_lexer": "ipython3",
   "version": "3.10.17"
  }
 },
 "nbformat": 4,
 "nbformat_minor": 5
}
