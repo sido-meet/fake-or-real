{
 "cells": [
  {
   "cell_type": "markdown",
   "id": "5402c0fe",
   "metadata": {},
   "source": [
    "# 1. 加载数据"
   ]
  },
  {
   "cell_type": "code",
   "execution_count": 1,
   "id": "0b6ba51b",
   "metadata": {},
   "outputs": [
    {
     "name": "stderr",
     "output_type": "stream",
     "text": [
      "/data/sxliu/projects/SQLTool/.venv/lib/python3.10/site-packages/tqdm/auto.py:21: TqdmWarning: IProgress not found. Please update jupyter and ipywidgets. See https://ipywidgets.readthedocs.io/en/stable/user_install.html\n",
      "  from .autonotebook import tqdm as notebook_tqdm\n"
     ]
    }
   ],
   "source": [
    "# 使用trainsformers库，使用datasets加载数据配合pipeline, 通过self-consistent推理数据\n",
    "import datasets\n",
    "\n",
    "import os\n",
    "import pandas as pd\n",
    "from transformers import AutoModelForCausalLM, AutoTokenizer, pipeline\n",
    "import pandas as pd\n",
    "import re\n",
    "import json\n",
    "import torch\n",
    "import dotenv\n",
    "from transformers.pipelines.pt_utils import KeyDataset\n",
    "dotenv.load_dotenv()\n",
    "\n",
    "def read_texts_from_dir(dir_path):\n",
    "    \"\"\"\n",
    "    Reads the texts from a given directory and saves them in the pd.DataFrame with columns ['id', 'file_1', 'file_2'].\n",
    "    \n",
    "    Params:\n",
    "    dir_path (str): path to the directory with data\n",
    "    \"\"\"\n",
    "    # Count number of directories in the provided path\n",
    "    dir_count = sum(os.path.isdir(os.path.join(root, d)) for root, dirs, _ in os.walk(dir_path) for d in dirs)\n",
    "    data=[0 for _ in range(dir_count)]\n",
    "    print(f\"Number of directories: {dir_count}\")\n",
    "    \n",
    "    # For each directory, read both file_1.txt and file_2.txt and save results to the list\n",
    "    i=0\n",
    "    for folder_name in sorted(os.listdir(dir_path)):\n",
    "        folder_path = os.path.join(dir_path, folder_name)\n",
    "        if os.path.isdir(folder_path):\n",
    "          try:\n",
    "            with open(os.path.join(folder_path, 'file_1.txt'), 'r', encoding='utf-8') as f1:\n",
    "              text1 = f1.read().strip()\n",
    "            with open(os.path.join(folder_path, 'file_2.txt'), 'r', encoding='utf-8') as f2:\n",
    "              text2 = f2.read().strip()\n",
    "            index = int(folder_name[-4:])\n",
    "            data[i]=(index, text1, text2)\n",
    "            i+=1\n",
    "          except Exception as e:\n",
    "            print(f\"Error reading directory {folder_name}: {e}\")\n",
    "    \n",
    "    # Change list with results into pandas DataFrame\n",
    "    df = pd.DataFrame(data, columns=['id', 'file_1', 'file_2']).set_index('id')\n",
    "    return df"
   ]
  },
  {
   "cell_type": "code",
   "execution_count": 2,
   "id": "761b8435",
   "metadata": {},
   "outputs": [
    {
     "name": "stdout",
     "output_type": "stream",
     "text": [
      "Number of directories: 1068\n"
     ]
    }
   ],
   "source": [
    "data_dir = os.environ.get(\"ROOT_DATA_DIR\")\n",
    "data_name = \"fake-or-real-the-impostor-hunt\"\n",
    "test_path=os.path.join(data_dir, data_name, \"test\")\n",
    "df_test=read_texts_from_dir(test_path)"
   ]
  },
  {
   "cell_type": "code",
   "execution_count": 3,
   "id": "c2bf9ec3",
   "metadata": {},
   "outputs": [
    {
     "data": {
      "text/html": [
       "<div>\n",
       "<style scoped>\n",
       "    .dataframe tbody tr th:only-of-type {\n",
       "        vertical-align: middle;\n",
       "    }\n",
       "\n",
       "    .dataframe tbody tr th {\n",
       "        vertical-align: top;\n",
       "    }\n",
       "\n",
       "    .dataframe thead th {\n",
       "        text-align: right;\n",
       "    }\n",
       "</style>\n",
       "<table border=\"1\" class=\"dataframe\">\n",
       "  <thead>\n",
       "    <tr style=\"text-align: right;\">\n",
       "      <th></th>\n",
       "      <th>file_1</th>\n",
       "      <th>file_2</th>\n",
       "    </tr>\n",
       "    <tr>\n",
       "      <th>id</th>\n",
       "      <th></th>\n",
       "      <th></th>\n",
       "    </tr>\n",
       "  </thead>\n",
       "  <tbody>\n",
       "    <tr>\n",
       "      <th>0</th>\n",
       "      <td>\"Music\" Music music music Music music Music mu...</td>\n",
       "      <td>Since its launch on Paranal observatory's Very...</td>\n",
       "    </tr>\n",
       "    <tr>\n",
       "      <th>1</th>\n",
       "      <td>underground exploration on SN's birth has prov...</td>\n",
       "      <td>SN 1987A provides valuable insights as newer o...</td>\n",
       "    </tr>\n",
       "    <tr>\n",
       "      <th>2</th>\n",
       "      <td>This research aimed to understand how star sha...</td>\n",
       "      <td>ChromeDriver music player\\nThis study focused ...</td>\n",
       "    </tr>\n",
       "    <tr>\n",
       "      <th>3</th>\n",
       "      <td>Using OmegaCAM's wide field capabilities spann...</td>\n",
       "      <td>greek translation :\\nvazhi (megaCAM), territor...</td>\n",
       "    </tr>\n",
       "    <tr>\n",
       "      <th>4</th>\n",
       "      <td>AssemblyCulture AssemblyCulture AssemblyCultur...</td>\n",
       "      <td>XClass is software tool that helps astronomers...</td>\n",
       "    </tr>\n",
       "  </tbody>\n",
       "</table>\n",
       "</div>"
      ],
      "text/plain": [
       "                                               file_1  \\\n",
       "id                                                      \n",
       "0   \"Music\" Music music music Music music Music mu...   \n",
       "1   underground exploration on SN's birth has prov...   \n",
       "2   This research aimed to understand how star sha...   \n",
       "3   Using OmegaCAM's wide field capabilities spann...   \n",
       "4   AssemblyCulture AssemblyCulture AssemblyCultur...   \n",
       "\n",
       "                                               file_2  \n",
       "id                                                     \n",
       "0   Since its launch on Paranal observatory's Very...  \n",
       "1   SN 1987A provides valuable insights as newer o...  \n",
       "2   ChromeDriver music player\\nThis study focused ...  \n",
       "3   greek translation :\\nvazhi (megaCAM), territor...  \n",
       "4   XClass is software tool that helps astronomers...  "
      ]
     },
     "execution_count": 3,
     "metadata": {},
     "output_type": "execute_result"
    }
   ],
   "source": [
    "df_test.head()"
   ]
  },
  {
   "cell_type": "markdown",
   "id": "73cdd7b2",
   "metadata": {},
   "source": [
    "# 2. 加载模型"
   ]
  },
  {
   "cell_type": "code",
   "execution_count": 4,
   "id": "5d47f127",
   "metadata": {},
   "outputs": [
    {
     "name": "stderr",
     "output_type": "stream",
     "text": [
      "Loading checkpoint shards: 100%|██████████| 5/5 [00:22<00:00,  4.52s/it]\n"
     ]
    }
   ],
   "source": [
    "# 模型路径\n",
    "model_dir = os.environ.get(\"ROOT_MODEL_DIR\")\n",
    "model_name = \"Qwen/Qwen3-8B\"\n",
    "model_path = os.path.join(model_dir, model_name)\n",
    "\n",
    "# 加载tokenizer和模型\n",
    "tokenizer = AutoTokenizer.from_pretrained(model_path)\n",
    "model = AutoModelForCausalLM.from_pretrained(\n",
    "    model_path,\n",
    "    torch_dtype=torch.bfloat16,\n",
    "    device_map=\"cuda:3\"\n",
    ")"
   ]
  },
  {
   "cell_type": "markdown",
   "id": "0e184325",
   "metadata": {},
   "source": [
    "# 2. 数据预处理"
   ]
  },
  {
   "cell_type": "code",
   "execution_count": 5,
   "id": "bac8276b",
   "metadata": {},
   "outputs": [],
   "source": [
    "# 定义系统提示 - 标准化输出格式\n",
    "system_prompt = \"\"\"You are tasked with judging the authenticity of two text samples. Given two texts labeled 1 and 2, one is real and the other is fake. Please think step by step, but only keep a minimum draft for each thinking step, with 5 words at most.\n",
    "\n",
    "To ensure consistent evaluation, please follow this strict output format:\n",
    "1. First, you may analyze and reason through the samples (this part will not be evaluated)\n",
    "2. For your final answer, you must wrap the number of the real sample (only 1 or 2) within \\\\boxed{}\n",
    "3. Do not include any other content outside the \\\\boxed{} tag\n",
    "4. Examples of correct format: \\\\boxed{1} or \\\\boxed{2}\n",
    "5. Any output not following this format will be considered invalid\"\"\"\n",
    "\n",
    "def create_prompt(sample1, sample2):\n",
    "    \"\"\"构建提示文本，包含明确的标准化输出要求\"\"\"\n",
    "    return \"\"\"Below are two text samples. Determine which is real and which is fake.\n",
    "\n",
    "Sample 1: [[sample1]]\n",
    "\n",
    "Sample 2: [[sample2]]\n",
    "\n",
    "Please follow these steps:\n",
    "1. You may first compare their content, logical consistency, information accuracy, and language style\n",
    "2. Then, provide your final answer by putting only the number of the real sample (1 or 2) within \\\\boxed{}\n",
    "3. Ensure there is no other text outside the \\\\boxed{} tag\n",
    "\n",
    "Example of correct output:\n",
    "After comparing the two samples, I think Sample 1 is more consistent and accurate. Answer: \\\\boxed{1}\n",
    "\n",
    "Example of incorrect output:\n",
    "2 (This is missing the required boxed format)\"\"\".replace(\"[[sample1]]\", sample1).replace(\"[[sample2]]\", sample2)\n",
    "\n",
    "def process_sample(sample1, sample2):\n",
    "    # 构建对话消息\n",
    "        messages = [\n",
    "            {\"role\": \"system\", \"content\": system_prompt},\n",
    "            {\"role\": \"user\", \"content\": create_prompt(sample1[:4096], sample2[:4096])}\n",
    "        ]\n",
    "        \n",
    "        # 应用聊天模板\n",
    "        prompt = tokenizer.apply_chat_template(\n",
    "            messages,\n",
    "            tokenize=False,\n",
    "            add_generation_prompt=True,\n",
    "            enable_thinking=True\n",
    "        )\n",
    "\n",
    "        return prompt"
   ]
  },
  {
   "cell_type": "code",
   "execution_count": 6,
   "id": "9b49a340",
   "metadata": {},
   "outputs": [
    {
     "data": {
      "text/plain": [
       "{'file_1': '\"Music\" Music music music Music music Music music Music music\\nThe two telescopes using \"Music\" have been incredibly busy since their launch! They\\'re incredibly popular for research on Earthly objects like star clusters or celestial bodies like planets or even galaxies far away! They\\'ve produced many scientific publications within just a few years - so many so that they dominate by far when it comes to peer reviewed articles published from those telescopes! These musical journey has produced over a hundred articles published through various outlets like journals such as \\'Nature\\'. Some notable achievements include discovering near space objects found between star systems as well as identifying cosmic events such as how gravity affects light waves traveling through spacemusic\\nBeyond its contributions to individual research projects with specific scientific goals (like finding new types or patterns) , it also contributes significantly to our overall understanding by being used for several key scientific research initiatives where scientists can use them together to make remarkable discoveries about our universe . For example they contributed significantly towards understanding how some celestial objects change over time using its powerful capabilitys under various conditions under which they could only be observed before on other smaller scale telescopes MUSIC\\nIt also holds an important place among others because some researchers think their work will help us understand how galaxies form or evolve better than ever beforeMusic\\nThis is just a summary - I hope you find it helpful! Let me know if you need any further details about specific aspects mentioned here ! Songs for your day ahead!',\n",
       " 'file_2': 'Since its launch on Paranal observatory\\'s Very Large Telescope (VLT), FORSC instrument remains highly sought after by astronomers worldwide due to its impressive capabilities for capturing light from distant objects like planets outside our solar system (exoplanets) or other celestial phenomena such as black holes or supernovae explosions .\\nFORSC has produced a significant amount scientific findings across various fields thanks to its ability to capture ultraviolet light: It boasts over a thousand peer-reviewed articles published using it since its inception , highlighting discoveries like a newly discovered interstellar asteroid within our solar system or identifying gravitational waves generated by merging neutron stars .\\nFurthermore ,FORSC played a key role contributing significantly towards groundbreaking research published by top scientific journals such as \"Nature\" including three notable discoveries about interstellar asteroids , gravitational waves sources ,and titanium oxide present within an exoplanets atmosphere . This instrument\\'s impact extends beyond just publishing new findings but also influences how scientists understand their research field through citations from other scientists who have built upon their work .',\n",
       " 'id': 0}"
      ]
     },
     "execution_count": 6,
     "metadata": {},
     "output_type": "execute_result"
    }
   ],
   "source": [
    "# 转为datasets格式\n",
    "data = datasets.Dataset.from_pandas(df_test)\n",
    "data[0]"
   ]
  },
  {
   "cell_type": "code",
   "execution_count": 7,
   "id": "9737a23a",
   "metadata": {},
   "outputs": [
    {
     "name": "stderr",
     "output_type": "stream",
     "text": [
      "Map: 100%|██████████| 1068/1068 [00:00<00:00, 3719.83 examples/s]\n"
     ]
    },
    {
     "data": {
      "text/plain": [
       "Column(['<|im_start|>system\\nYou are tasked with judging the authenticity of two text samples. Given two texts labeled 1 and 2, one is real and the other is fake. Please think step by step, but only keep a minimum draft for each thinking step, with 5 words at most.\\n\\nTo ensure consistent evaluation, please follow this strict output format:\\n1. First, you may analyze and reason through the samples (this part will not be evaluated)\\n2. For your final answer, you must wrap the number of the real sample (only 1 or 2) within \\\\boxed{}\\n3. Do not include any other content outside the \\\\boxed{} tag\\n4. Examples of correct format: \\\\boxed{1} or \\\\boxed{2}\\n5. Any output not following this format will be considered invalid<|im_end|>\\n<|im_start|>user\\nBelow are two text samples. Determine which is real and which is fake.\\n\\nSample 1: \"Music\" Music music music Music music Music music Music music\\nThe two telescopes using \"Music\" have been incredibly busy since their launch! They\\'re incredibly popular for research on Earthly objects like star clusters or celestial bodies like planets or even galaxies far away! They\\'ve produced many scientific publications within just a few years - so many so that they dominate by far when it comes to peer reviewed articles published from those telescopes! These musical journey has produced over a hundred articles published through various outlets like journals such as \\'Nature\\'. Some notable achievements include discovering near space objects found between star systems as well as identifying cosmic events such as how gravity affects light waves traveling through spacemusic\\nBeyond its contributions to individual research projects with specific scientific goals (like finding new types or patterns) , it also contributes significantly to our overall understanding by being used for several key scientific research initiatives where scientists can use them together to make remarkable discoveries about our universe . For example they contributed significantly towards understanding how some celestial objects change over time using its powerful capabilitys under various conditions under which they could only be observed before on other smaller scale telescopes MUSIC\\nIt also holds an important place among others because some researchers think their work will help us understand how galaxies form or evolve better than ever beforeMusic\\nThis is just a summary - I hope you find it helpful! Let me know if you need any further details about specific aspects mentioned here ! Songs for your day ahead!\\n\\nSample 2: Since its launch on Paranal observatory\\'s Very Large Telescope (VLT), FORSC instrument remains highly sought after by astronomers worldwide due to its impressive capabilities for capturing light from distant objects like planets outside our solar system (exoplanets) or other celestial phenomena such as black holes or supernovae explosions .\\nFORSC has produced a significant amount scientific findings across various fields thanks to its ability to capture ultraviolet light: It boasts over a thousand peer-reviewed articles published using it since its inception , highlighting discoveries like a newly discovered interstellar asteroid within our solar system or identifying gravitational waves generated by merging neutron stars .\\nFurthermore ,FORSC played a key role contributing significantly towards groundbreaking research published by top scientific journals such as \"Nature\" including three notable discoveries about interstellar asteroids , gravitational waves sources ,and titanium oxide present within an exoplanets atmosphere . This instrument\\'s impact extends beyond just publishing new findings but also influences how scientists understand their research field through citations from other scientists who have built upon their work .\\n\\nPlease follow these steps:\\n1. You may first compare their content, logical consistency, information accuracy, and language style\\n2. Then, provide your final answer by putting only the number of the real sample (1 or 2) within \\\\boxed{}\\n3. Ensure there is no other text outside the \\\\boxed{} tag\\n\\nExample of correct output:\\nAfter comparing the two samples, I think Sample 1 is more consistent and accurate. Answer: \\\\boxed{1}\\n\\nExample of incorrect output:\\n2 (This is missing the required boxed format)<|im_end|>\\n<|im_start|>assistant\\n', \"<|im_start|>system\\nYou are tasked with judging the authenticity of two text samples. Given two texts labeled 1 and 2, one is real and the other is fake. Please think step by step, but only keep a minimum draft for each thinking step, with 5 words at most.\\n\\nTo ensure consistent evaluation, please follow this strict output format:\\n1. First, you may analyze and reason through the samples (this part will not be evaluated)\\n2. For your final answer, you must wrap the number of the real sample (only 1 or 2) within \\\\boxed{}\\n3. Do not include any other content outside the \\\\boxed{} tag\\n4. Examples of correct format: \\\\boxed{1} or \\\\boxed{2}\\n5. Any output not following this format will be considered invalid<|im_end|>\\n<|im_start|>user\\nBelow are two text samples. Determine which is real and which is fake.\\n\\nSample 1: underground exploration on SN's birth has provided valuable insights into its structure:\\nEarly Detection: The space telescope data revealed warm underground material around SN's blast zone (like finding buried treasure). Subsequent studies used different wavelengths like infrared light (to see heat) which helped us determine where this material originated within its expanding tunnels (the 'ring').\\nFurther Clues: Subsequent missions like Herschel dug deeper by detecting far-infrared emissions from this region - suggesting vast amounts were created during creation (like finding lost mineshaft).\\nThe Persistence: While some details about its composition were unclear due limited view capabilities; recent findings using powerful telescopes like ALMA have given us much clearer picture - confirming presence under intense pressure conditions as well as providing evidence for specific elements such as CO SiO inside it (as if it contained ancient scrolls or cave paintings).\\nThese discoveries indicate these remnants might play an important role shaping early universe by contributing both elements molecular building blocks – exciting prospect for future research!\\n\\nSample 2: SN 1987A provides valuable insights as newer observatories become operational due its proximity as well as its ongoing evolution after its initial explosion event . Observations using various telescopes have revealed information about both warm (Spitzer) thermal infrared (Gemini South Very Large Telescope) emissions coming from different regions within SN 1987A's expanding shell . The Herschel satellite provided evidence for far-infrared emissions exceeding normal expectations suggesting substantial amounts were created by this event; while later instruments such as ALMA provided detailed views on cold matter near its core confirming previous findings about dusty material originating within it . The precise amount (mass) remains uncertain but suggests these materials may have originated elsewhere within galaxies or contribute significantly towards their early development . ALMA has given us evidence for both CO(2-to-l) SiO(5-to-4), which allows us better understand how these elements form after their initial creation during SN\\nThis research continues into analyzing recent ALMA data revealing clumps within SN 's central region composed primarily CO SiO , offering unprecedented insight into how these elements form before any impact from external forces like shock waves disrupt them.. This research is crucial because it sheds light on how supernovas affect galactic environments beyond just metal content by potentially contributing large amounts of molecular compounds like those found here too..\\n\\nPlease follow these steps:\\n1. You may first compare their content, logical consistency, information accuracy, and language style\\n2. Then, provide your final answer by putting only the number of the real sample (1 or 2) within \\\\boxed{}\\n3. Ensure there is no other text outside the \\\\boxed{} tag\\n\\nExample of correct output:\\nAfter comparing the two samples, I think Sample 1 is more consistent and accurate. Answer: \\\\boxed{1}\\n\\nExample of incorrect output:\\n2 (This is missing the required boxed format)<|im_end|>\\n<|im_start|>assistant\\n\", '<|im_start|>system\\nYou are tasked with judging the authenticity of two text samples. Given two texts labeled 1 and 2, one is real and the other is fake. Please think step by step, but only keep a minimum draft for each thinking step, with 5 words at most.\\n\\nTo ensure consistent evaluation, please follow this strict output format:\\n1. First, you may analyze and reason through the samples (this part will not be evaluated)\\n2. For your final answer, you must wrap the number of the real sample (only 1 or 2) within \\\\boxed{}\\n3. Do not include any other content outside the \\\\boxed{} tag\\n4. Examples of correct format: \\\\boxed{1} or \\\\boxed{2}\\n5. Any output not following this format will be considered invalid<|im_end|>\\n<|im_start|>user\\nBelow are two text samples. Determine which is real and which is fake.\\n\\nSample 1: This research aimed to understand how star shapes differ from perfectly round ones using various techniques like examining visibility patterns across different directions and analyzing phase differences based on how starlight bends around an object\\'s surface structure (like a sphere).\\nWe found evidence for complex star shapes in some specific types (like those containing oxygen) by observing their light behavior differently than predicted by simple models for round or elliptical shapes (like those found in carbon stars). Our study suggests that asymmetry might be a characteristic feature associated with oxygen rich star systems compared to other types like carbon based ones where symmetry appears more common in their light behavior patterns .\\n\\nSample 2: ChromeDriver music player\\nThis study focused on identifying any non-spherical shapes within specific types of celestial bodies (music music) using various techniques like comparing how they look from different directions and analyzing their changes in sound pressure vs time .\\nThe extent to which these artists\\' images show evidence for an overall shape rather than individual tracks was found across multiple tracks:\\nTwo specific songs had clearly visible distortions due to their complex structure compared to others playing just simple beats\\nThis research found that while most recordings showed a relatively simple structure (like when you only see one instrument rather than an entire grand orchestra), some featured noticeable deviations from those expectations (like if there were multiple instruments playing at once). These results suggest there may be a correlation between how musicians program their compositions and how much curvature they chose for their soundscape — it seems as though tracks with more intricate arrangements tend towards greater complexity!\\nPlease note: This is just an example response based on your input text as I am not able access real world information such as music information or even what \"music music\" means without further context!\\nLet me know if you want me to try working through some real world examples instead? I can also provide alternative ways I could rephrase your initial statement!\\n\\nPlease follow these steps:\\n1. You may first compare their content, logical consistency, information accuracy, and language style\\n2. Then, provide your final answer by putting only the number of the real sample (1 or 2) within \\\\boxed{}\\n3. Ensure there is no other text outside the \\\\boxed{} tag\\n\\nExample of correct output:\\nAfter comparing the two samples, I think Sample 1 is more consistent and accurate. Answer: \\\\boxed{1}\\n\\nExample of incorrect output:\\n2 (This is missing the required boxed format)<|im_end|>\\n<|im_start|>assistant\\n', '<|im_start|>system\\nYou are tasked with judging the authenticity of two text samples. Given two texts labeled 1 and 2, one is real and the other is fake. Please think step by step, but only keep a minimum draft for each thinking step, with 5 words at most.\\n\\nTo ensure consistent evaluation, please follow this strict output format:\\n1. First, you may analyze and reason through the samples (this part will not be evaluated)\\n2. For your final answer, you must wrap the number of the real sample (only 1 or 2) within \\\\boxed{}\\n3. Do not include any other content outside the \\\\boxed{} tag\\n4. Examples of correct format: \\\\boxed{1} or \\\\boxed{2}\\n5. Any output not following this format will be considered invalid<|im_end|>\\n<|im_start|>user\\nBelow are two text samples. Determine which is real and which is fake.\\n\\nSample 1: Using OmegaCAM\\'s wide field capabilities spanning over one degree squared across eight star forming areas within our galaxy\\'s disk we conducted extensive observations with ESO\\'s VLT telescope over four periods totaling around thirty five hours utilizing challenging \"filler\" weather conditions . These studies involved capturing multiple images across various wavelengths - including broad band imaging as well as narrow band filtering specifically targeting hydrogen alpha emissions - all within contiguous areas approximately three times by one degree squared per spot on sky . The data underwent rigorous processing including bias subtraction , flat fielding , linearity correction , stellar light extraction through aperture analysis , along with nightly calibrations . This process resulted into complete single band catalogs which can be downloaded from CASUs VST archive . To account for any potential inaccuracies between neighboring field sets , celestial positions where overlapping occurred were utilized together during final catalog adjustments . Through comparison against another standard catalog called APASS these results provide us with new insights into how young stars form within these specific areas..\\n\\nSample 2: greek translation :\\nvazhi (megaCAM), territorias (megaCAM), territorias . nahilalakip , suis . periods observation period , ESO observation period , ESO observation period , ESO observation period . ..\\n\\nPlease follow these steps:\\n1. You may first compare their content, logical consistency, information accuracy, and language style\\n2. Then, provide your final answer by putting only the number of the real sample (1 or 2) within \\\\boxed{}\\n3. Ensure there is no other text outside the \\\\boxed{} tag\\n\\nExample of correct output:\\nAfter comparing the two samples, I think Sample 1 is more consistent and accurate. Answer: \\\\boxed{1}\\n\\nExample of incorrect output:\\n2 (This is missing the required boxed format)<|im_end|>\\n<|im_start|>assistant\\n', '<|im_start|>system\\nYou are tasked with judging the authenticity of two text samples. Given two texts labeled 1 and 2, one is real and the other is fake. Please think step by step, but only keep a minimum draft for each thinking step, with 5 words at most.\\n\\nTo ensure consistent evaluation, please follow this strict output format:\\n1. First, you may analyze and reason through the samples (this part will not be evaluated)\\n2. For your final answer, you must wrap the number of the real sample (only 1 or 2) within \\\\boxed{}\\n3. Do not include any other content outside the \\\\boxed{} tag\\n4. Examples of correct format: \\\\boxed{1} or \\\\boxed{2}\\n5. Any output not following this format will be considered invalid<|im_end|>\\n<|im_start|>user\\nBelow are two text samples. Determine which is real and which is fake.\\n\\nSample 1: AssemblyCulture AssemblyCulture AssemblyCulture AssemblyCulture()\\nIn essence:\\nWhat it does: This program helps you analyze complex astronomical data like that collected from radio dishes or dinosaur footprints using modern scientific techniques called \"Monte Carlo simulations.\" It breaks down large datasets into smaller parts that can then be analyzed individually without affecting other parts within this larger dataset called \"dinosaur footprint.\"\\nHow it works: It uses sophisticated mathematical equations (\"the dinosaur footprint\" itself), along with pre-existing databases (\"dino fossils\"), to estimate how light interacts with these complex structures (\"dino footprints\"). It then uses this information about how light interacts within these \"dinosaurs\" themselves (\"dinosaurs\\' own bodies\") to create detailed reconstructions (\"paleoartist\\'s sketch\") based on what we know about dinosaurs themselves (paleoartists sketch).\\nBenefits: By being able to break down large datasets into smaller parts that can then be analyzed individually without affecting others within this larger dataset called dinosaur footprint, it helps us understand dinosaurs better than ever before!\\nLet me know if you want me explain any part further! I hope this clarifies things somewhat!\\n\\nSample 2: XClass is software tool that helps astronomers analyze astronomical data using parallel processing techniques called Message Passing Interface (MPI).\\nIt offers advanced features like fitting physical parameters across multiple molecular lines within datasets; this helps identify individual chemical elements present in space along with their properties like temperature and density distribution within those elements\\' regions within their host objects .\\nUnlike other similar programs that may only consider some lines at once , XClass accounts fully for every line from each element at specific wavelengths . This makes it more reliable when identifying different chemical compounds present simultaneously .\\nTo achieve this analysis , it uses simplified equations based on local thermodynamic equilibrium(LTE), assuming uniform temperatures throughout its analysis area . Although this assumption works well most times , it may not apply perfectly when dealing with non-equilibrium processes involving collisions between atoms or molecules that arent accounted properly .\\nThe software utilizes precompiled databases containing spectral information about various molecular species obtained through various scientific research projects including NASAs JPL project team Cologne Database For Molecular Spectroscopy project team.. These databases allow users to input specific details about their target spectra including sizes , temperatures , densities etc., allowing them detailed control over how they want their spectra analyzed\\nFinally , users can utilize specialized syntax known as Splatalogue format specifically designed to work seamlessly alongside CASA\\'s existing tools making integrating these two powerful systems even easier than before!\\n\\nPlease follow these steps:\\n1. You may first compare their content, logical consistency, information accuracy, and language style\\n2. Then, provide your final answer by putting only the number of the real sample (1 or 2) within \\\\boxed{}\\n3. Ensure there is no other text outside the \\\\boxed{} tag\\n\\nExample of correct output:\\nAfter comparing the two samples, I think Sample 1 is more consistent and accurate. Answer: \\\\boxed{1}\\n\\nExample of incorrect output:\\n2 (This is missing the required boxed format)<|im_end|>\\n<|im_start|>assistant\\n'])"
      ]
     },
     "execution_count": 7,
     "metadata": {},
     "output_type": "execute_result"
    }
   ],
   "source": [
    "processed_data = data.map(lambda x: {\"prompt\": process_sample(x[\"file_1\"], x[\"file_2\"])}, remove_columns=[\"file_1\", \"file_2\"])\n",
    "# 展示数据\n",
    "processed_data[\"prompt\"]"
   ]
  },
  {
   "cell_type": "markdown",
   "id": "ac48a238",
   "metadata": {},
   "source": [
    "# 推理与保存"
   ]
  },
  {
   "cell_type": "code",
   "execution_count": 8,
   "id": "09011ae6",
   "metadata": {},
   "outputs": [
    {
     "name": "stderr",
     "output_type": "stream",
     "text": [
      "Device set to use cuda:3\n"
     ]
    }
   ],
   "source": [
    "# 根据思维模式获取最佳采样参数\n",
    "def get_sampling_parameters(enable_thinking=True):\n",
    "    if enable_thinking:\n",
    "        return {\n",
    "            \"temperature\": 0.6,\n",
    "            \"top_p\": 0.95,\n",
    "            \"top_k\": 20,\n",
    "            \"min_p\": 0.0,\n",
    "            \"do_sample\": True,\n",
    "        }\n",
    "    else:\n",
    "        return {\n",
    "            \"temperature\": 0.7,\n",
    "            \"top_p\": 0.8,\n",
    "            \"top_k\": 20,\n",
    "            \"min_p\": 0.0,\n",
    "            \"do_sample\": True,\n",
    "        }\n",
    "\n",
    "# 初始化文本生成pipeline\n",
    "text_generator = pipeline(\n",
    "    \"text-generation\",\n",
    "    model=model,\n",
    "    tokenizer=tokenizer,\n",
    "    device_map=\"auto\",\n",
    "    torch_dtype=torch.bfloat16,\n",
    ")"
   ]
  },
  {
   "cell_type": "code",
   "execution_count": 9,
   "id": "f1a7b93c",
   "metadata": {},
   "outputs": [],
   "source": [
    "# 提取答案的函数（从生成文本中提取\\boxed{1}或\\boxed{2}）\n",
    "def extract_answer(generated_text):\n",
    "    \"\"\"从文本中提取\\\\boxed{1}或\\\\boxed{2}，无效则返回None\"\"\"\n",
    "    match = re.search(r'\\\\boxed\\{(1|2)\\}', generated_text)\n",
    "    if match:\n",
    "            answer = match.group(1)\n",
    "    else:\n",
    "        match = re.search(r'\\{([12])\\}', generated_text)\n",
    "        if match:\n",
    "            answer = match.group(1)\n",
    "        elif \"1\" in generated_text[-25:] and \"2\" not in generated_text[-25:]:\n",
    "            answer = '1'\n",
    "        elif \"1\" not in generated_text[-25:] and \"2\" in generated_text[-25:]:\n",
    "            answer = '2'\n",
    "        else:  \n",
    "            print(f\"警告: 无效的判断结果 - {generated_text[-50:]}...，默认返回1\")\n",
    "            answer = '1'\n",
    "\n",
    "    return answer\n",
    "\n",
    "def get_consensus_answer(generated_texts, default=\"1\"):\n",
    "    \"\"\"从多条生成结果中获取一致性答案\"\"\"\n",
    "    # 提取所有有效答案\n",
    "    valid_answers = [extract_answer(text[\"generated_text\"]) for text in generated_texts]\n",
    "    \n",
    "    if not valid_answers:\n",
    "        # 无有效答案，返回默认值\n",
    "        return default\n",
    "    \n",
    "    # 统计1和2的数量\n",
    "    count_1 = valid_answers.count(\"1\")\n",
    "    count_2 = valid_answers.count(\"2\")\n",
    "    \n",
    "    if count_1 > count_2:\n",
    "        return \"1\"\n",
    "    elif count_2 > count_1:\n",
    "        return \"2\"\n",
    "    else:\n",
    "        # 数量相同，使用默认值（或可结合生成概率进一步判断）\n",
    "        return default"
   ]
  },
  {
   "cell_type": "code",
   "execution_count": 10,
   "id": "2a2d226a",
   "metadata": {},
   "outputs": [],
   "source": [
    "pred_data = pd.read_csv(\"data/self_consistent_results.csv\")\n"
   ]
  },
  {
   "cell_type": "code",
   "execution_count": 11,
   "id": "acefdbdd",
   "metadata": {},
   "outputs": [
    {
     "name": "stdout",
     "output_type": "stream",
     "text": [
      "945\n"
     ]
    }
   ],
   "source": [
    "idx = pred_data.iloc[-1, 0]\n",
    "print(idx)"
   ]
  },
  {
   "cell_type": "code",
   "execution_count": 12,
   "id": "b57788e3",
   "metadata": {},
   "outputs": [],
   "source": [
    "# 截取idx后面的，不包括idx\n",
    "processed_data = processed_data.select(range(idx+1, len(processed_data)))"
   ]
  },
  {
   "cell_type": "code",
   "execution_count": 13,
   "id": "20e2371f",
   "metadata": {},
   "outputs": [
    {
     "data": {
      "text/plain": [
       "{'id': 946,\n",
       " 'prompt': '<|im_start|>system\\nYou are tasked with judging the authenticity of two text samples. Given two texts labeled 1 and 2, one is real and the other is fake. Please think step by step, but only keep a minimum draft for each thinking step, with 5 words at most.\\n\\nTo ensure consistent evaluation, please follow this strict output format:\\n1. First, you may analyze and reason through the samples (this part will not be evaluated)\\n2. For your final answer, you must wrap the number of the real sample (only 1 or 2) within \\\\boxed{}\\n3. Do not include any other content outside the \\\\boxed{} tag\\n4. Examples of correct format: \\\\boxed{1} or \\\\boxed{2}\\n5. Any output not following this format will be considered invalid<|im_end|>\\n<|im_start|>user\\nBelow are two text samples. Determine which is real and which is fake.\\n\\nSample 1: The main ESO archive query form is a web tool that allows users to search the ESO archive using Target Name, Coordinates, Observing Date, or Programme ID. Users can specify the type of observations they want (such as Imaging, Spectroscopy, or Interferometry) and whether they need Science or Calibration frames. Depending on the amount of data requested, the query can take from a few seconds to several minutes. The results are displayed in a table that includes details like frames, position, programme ID, exposure time, and filter, along with two summary tables showing the total number of frames and exposure times categorized by instrument or exposure time/instrument/filter. VirGO provides a more visual alternative to this traditional query form, showing available data, their overlaps, and instrument footprints while allowing users to filter the data in real-time before querying the ESO archive. This approach poses challenges in user interface design, such as displaying multiple observations without causing confusion and intuitively filtering and selecting relevant observations. A key feature of VirGO is its ability to manage large data sets on both the client and server sides and to communicate with other VO tools. This is made possible by VO standards, including the Simple Image Access/Simple Spectral Access (SIA/SSA) protocols for retrieving images and spectra from various astronomical databases through a consistent interface, and the PLASTIC protocol for communication with other VO tools.\\n\\nSample 2: The main means of accessing the ESO archive is through a web form that enables users to search based on Target Name, Coordinates, Observing Date, or Programme ID. Users can choose the type of observations (like Imaging, Spectroscopy, or Interferometry) and the Category (Science or Calibration frames). Depending on how much data is requested, searching may take from a few seconds to several minutes. The results are presented in a table containing frame information such as position, programme ID, exposure time, and filter. Additionally, there are two summary tables showing the total number of frames and exposure times by instrument or by exposure time/instrument/filter categories. VirGO provides an alternative to this standard query process by visually displaying the available data, its overlaps, and instruments’ attributes while allowing users to filter resultant data in real-time before querying the ESO archive. This method poses challenges in designing a user interface that can clearly show and navigate many observations concurrently and facilitate easy selection of relevant data. A key feature of VirGO is its ability to work with large sets of data on both the user’s device and the server, alongside communicating with other VO tools. These capabilities are a result of adhering to VO standards, with SIA/SSA protocols for images and spectra retrieval and PLASTIC for interconnecting with other VO applications.\\n\\nPlease follow these steps:\\n1. You may first compare their content, logical consistency, information accuracy, and language style\\n2. Then, provide your final answer by putting only the number of the real sample (1 or 2) within \\\\boxed{}\\n3. Ensure there is no other text outside the \\\\boxed{} tag\\n\\nExample of correct output:\\nAfter comparing the two samples, I think Sample 1 is more consistent and accurate. Answer: \\\\boxed{1}\\n\\nExample of incorrect output:\\n2 (This is missing the required boxed format)<|im_end|>\\n<|im_start|>assistant\\n'}"
      ]
     },
     "execution_count": 13,
     "metadata": {},
     "output_type": "execute_result"
    }
   ],
   "source": [
    "processed_data[0]"
   ]
  },
  {
   "cell_type": "code",
   "execution_count": null,
   "id": "f28d13af",
   "metadata": {},
   "outputs": [],
   "source": []
  },
  {
   "cell_type": "code",
   "execution_count": 14,
   "id": "0373fac3",
   "metadata": {},
   "outputs": [
    {
     "name": "stdout",
     "output_type": "stream",
     "text": [
      "已保存id=950的结果：2\n",
      "已保存id=960的结果：1\n",
      "已保存id=970的结果：2\n",
      "警告: 无效的判断结果 - ლი კრედიტი მინიჭებული კრედიტი მინიჭებული კრედიტი მ...，默认返回1\n",
      "已保存id=980的结果：2\n",
      "已保存id=990的结果：2\n",
      "已保存id=1000的结果：1\n",
      "已保存id=1010的结果：1\n",
      "已保存id=1020的结果：2\n",
      "已保存id=1030的结果：1\n",
      "已保存id=1040的结果：1\n",
      "已保存id=1050的结果：2\n",
      "已保存id=1060的结果：1\n"
     ]
    }
   ],
   "source": [
    "# 处理并即时保存\n",
    "def process_and_save(text_generator, processed_data, output_file=\"results.csv\"):\n",
    "    # 初始化CSV文件\n",
    "    if not os.path.exists(output_file):\n",
    "        pd.DataFrame(columns=['id', 'real_text_id']).to_csv(\n",
    "            output_file, index=False, encoding='utf-8'\n",
    "        )\n",
    "    i = idx + 1  # 从上次中断的地方继续\n",
    "    for batch_out in text_generator(  # 此时batch_out是包含5条结果的列表\n",
    "        KeyDataset(processed_data, \"prompt\"),\n",
    "        max_new_tokens=4096,\n",
    "        return_full_text=False,\n",
    "        **get_sampling_parameters(enable_thinking=True),\n",
    "        num_return_sequences=5  # 一次返回5条结果\n",
    "    ):\n",
    "        # 计算一致性答案\n",
    "        final_answer = get_consensus_answer(batch_out)\n",
    "        \n",
    "        # 即时保存\n",
    "        pd.DataFrame([{\n",
    "            'id': i,\n",
    "            'real_text_id': final_answer\n",
    "        }]).to_csv(\n",
    "            output_file,\n",
    "            mode='a',\n",
    "            header=False,\n",
    "            index=False,\n",
    "            encoding='utf-8'\n",
    "        )\n",
    "        if i % 10 == 0:\n",
    "            print(f\"已保存id={i}的结果：{final_answer}\")\n",
    "        i += 1\n",
    "\n",
    "        del batch_out, final_answer\n",
    "        if torch.cuda.is_available():\n",
    "            torch.cuda.empty_cache()\n",
    "            torch.cuda.synchronize()  # 确保缓存清理完成\n",
    "\n",
    "# 使用示例\n",
    "process_and_save(text_generator, processed_data, \"data/self_consistent_results.csv\")"
   ]
  }
 ],
 "metadata": {
  "kernelspec": {
   "display_name": "SQLTool",
   "language": "python",
   "name": "python3"
  },
  "language_info": {
   "codemirror_mode": {
    "name": "ipython",
    "version": 3
   },
   "file_extension": ".py",
   "mimetype": "text/x-python",
   "name": "python",
   "nbconvert_exporter": "python",
   "pygments_lexer": "ipython3",
   "version": "3.10.17"
  }
 },
 "nbformat": 4,
 "nbformat_minor": 5
}
